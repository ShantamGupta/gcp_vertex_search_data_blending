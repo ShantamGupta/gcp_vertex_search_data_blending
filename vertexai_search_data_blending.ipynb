{
 "cells": [
  {
   "cell_type": "code",
   "execution_count": null,
   "id": "ed4aa0ff-dce1-42c3-bb68-31de7752841c",
   "metadata": {},
   "outputs": [],
   "source": [
    "# Copyright 2024 Google LLC\n",
    "#\n",
    "# Licensed under the Apache License, Version 2.0 (the \"License\");\n",
    "# you may not use this file except in compliance with the License.\n",
    "# You may obtain a copy of the License at\n",
    "#\n",
    "#     https://www.apache.org/licenses/LICENSE-2.0\n",
    "#\n",
    "# Unless required by applicable law or agreed to in writing, software\n",
    "# distributed under the License is distributed on an \"AS IS\" BASIS,\n",
    "# WITHOUT WARRANTIES OR CONDITIONS OF ANY KIND, either express or implied.\n",
    "# See the License for the specific language governing permissions and\n",
    "# limitations under the License."
   ]
  },
  {
   "cell_type": "markdown",
   "id": "df13176e-8d3d-4d6f-a265-91a0fb44695c",
   "metadata": {
    "tags": []
   },
   "source": [
    "# Getting Started with the Vertex AI Gemini API & Python SDK\n",
    "\n",
    "<table align=\"left\">\n",
    "  <td style=\"text-align: center\">\n",
    "    <a href=\"https://colab.research.google.com/github/ShantamGupta/gcp_vertex_search_data_blending/blob/main/vertex_search_data_blending_with_gemini_summarization.ipynb\">\n",
    "      <img src=\"https://cloud.google.com/ml-engine/images/colab-logo-32px.png\" alt=\"Google Colaboratory logo\"><br> Run in Colab\n",
    "    </a>\n",
    "  </td>\n",
    "  <td style=\"text-align: center\">\n",
    "    <a href=\"https://console.cloud.google.com/vertex-ai/colab/import/https:%2F%2Fraw.githubusercontent.com%2FShantamGupta%2Fgcp_vertex_search_data_blending%2Fmain%2Fvertex_search_data_blending_with_gemini_summarization.ipynb\">\n",
    "      <img width=\"32px\" src=\"https://lh3.googleusercontent.com/JmcxdQi-qOpctIvWKgPtrzZdJJK-J3sWE1RsfjZNwshCFgE_9fULcNpuXYTilIR2hjwN\" alt=\"Google Cloud Colab Enterprise logo\"><br> Run in Colab Enterprise\n",
    "    </a>\n",
    "  </td>    \n",
    "  <td style=\"text-align: center\">\n",
    "    <a href=\"https://github.com/ShantamGupta/gcp_vertex_search_data_blending/blob/main/vertex_search_data_blending_with_gemini_summarization.ipynb\">\n",
    "      <img src=\"https://cloud.google.com/ml-engine/images/github-logo-32px.png\" alt=\"GitHub logo\"><br> View on GitHub\n",
    "    </a>\n",
    "  </td>\n",
    "  <td style=\"text-align: center\">\n",
    "    <a href=\"https://console.cloud.google.com/vertex-ai/workbench/deploy-notebook?download_url=https://raw.githubusercontent.com/ShantamGupta/gcp_vertex_search_data_blending/main/vertex_search_data_blending_with_gemini_summarization.ipynb\">\n",
    "      <img src=\"https://lh3.googleusercontent.com/UiNooY4LUgW_oTvpsNhPpQzsstV5W8F7rYgxgGBD85cWJoLmrOzhVs_ksK_vgx40SHs7jCqkTkCk=e14-rj-sc0xffffff-h130-w32\" alt=\"Vertex AI logo\"><br> Open in Vertex AI Workbench\n",
    "    </a>\n",
    "  </td>\n",
    "</table>\n"
   ]
  },
  {
   "cell_type": "markdown",
   "id": "c03164e3-b49e-4b6f-bada-ee3c4a9ef8cb",
   "metadata": {
    "tags": []
   },
   "source": [
    "## Overview\n",
    "\n",
    "### Search\n",
    "Vertex AI Search brings together the power of deep information retrieval, state-of-the-art natural language processing, and the latest in large language processing to understand user intent and return the most relevant results for the user.\n",
    "\n",
    "With Vertex AI Search, you can create apps for searching and for making recommendations. Vertex AI Search also has special capabilities for some industries, such as media, healthcare, and retail.\n",
    "\n",
    "\n",
    "\n",
    "### Gemini\n",
    "\n",
    "Gemini is a family of generative AI models developed by Google DeepMind that is designed for multimodal use cases. The Gemini API gives you access to the Gemini Pro and Gemini Pro Vision models.\n",
    "\n",
    "### Vertex AI Gemini API\n",
    "\n",
    "The Vertex AI Gemini API provides a unified interface for interacting with Gemini models. There are two Gemini 1.0 Pro models available in the Gemini API:\n",
    "\n",
    "- **Gemini 1.0 Pro model** (`gemini-1.0-pro`): Designed to handle natural language tasks, multi-turn text and code chat, and code generation.\n",
    ".\n",
    "\n",
    "You can interact with the Gemini API using the following methods:\n",
    "\n",
    "- Use [Vertex AI Studio](https://cloud.google.com/generative-ai-studio) for quick testing and command generation\n",
    "- Use cURL commands\n",
    "- Use the Vertex AI SDK\n",
    "\n",
    "For more information, see the [Generative AI on Vertex AI](https://cloud.google.com/vertex-ai/docs/generative-ai/learn/overview) documentation.\n",
    "\n",
    "This tutorial explains how to call a search app with mixed datastore, get search snippets and summarize the response using Gemini Pro. \n"
   ]
  },
  {
   "cell_type": "markdown",
   "id": "4f2112dc-6f63-414e-bf79-eb262752a248",
   "metadata": {},
   "source": [
    "### Create a Search App with Mixed Datastores"
   ]
  },
  {
   "cell_type": "markdown",
   "id": "c9251ab7-4a41-4a7e-b675-3822308c50f8",
   "metadata": {},
   "source": [
    "1. Follow the steps listed here to create a Search App https://cloud.google.com/generative-ai-app-builder/docs/create-engine-es \n",
    "2. Create the relevant datastores(GCS, BQ, Website) https://cloud.google.com/generative-ai-app-builder/docs/create-data-store-es\n",
    "3. Link the Datstores to the Search App https://cloud.google.com/generative-ai-app-builder/docs/create-data-store-es#multi-data-stores"
   ]
  },
  {
   "cell_type": "markdown",
   "id": "3ab58f9f-ceba-4eea-8ac0-5fbd36eac78d",
   "metadata": {},
   "source": [
    "### Install the Relevant packages"
   ]
  },
  {
   "cell_type": "code",
   "execution_count": null,
   "id": "739fb52f-7ca7-4fdc-993b-c8b88fdec713",
   "metadata": {
    "tags": []
   },
   "outputs": [],
   "source": [
    "!pip install --upgrade google-cloud-aiplatform"
   ]
  },
  {
   "cell_type": "markdown",
   "id": "514726d9-6ca2-4270-bd0a-417ba5fba471",
   "metadata": {},
   "source": [
    "### Restart current runtime\n",
    "\n",
    "To use the newly installed packages in this Jupyter runtime, you must restart the runtime. You can do this by running the cell below, which will restart the current kernel."
   ]
  },
  {
   "cell_type": "code",
   "execution_count": null,
   "id": "b382f165-1003-4eb2-94ef-23a646d22f4c",
   "metadata": {},
   "outputs": [],
   "source": [
    "# Restart kernel after installs so that your environment can access the new packages\n",
    "import IPython\n",
    "import time\n",
    "\n",
    "app = IPython.Application.instance()\n",
    "app.kernel.do_shutdown(True)"
   ]
  },
  {
   "cell_type": "markdown",
   "id": "de665d59-bada-491f-9264-cf12cac2146e",
   "metadata": {},
   "source": [
    "### Authenticate your notebook environment (Colab only)\n",
    "\n",
    "If you are running this notebook on Google Colab, run the following cell to authenticate your environment. This step is not required if you are using [Vertex AI Workbench](https://cloud.google.com/vertex-ai-workbench).\n"
   ]
  },
  {
   "cell_type": "code",
   "execution_count": null,
   "id": "ccfd1c99-2440-41d3-b087-a30c321d71ee",
   "metadata": {},
   "outputs": [],
   "source": [
    "import sys\n",
    "\n",
    "# Additional authentication is required for Google Colab\n",
    "if \"google.colab\" in sys.modules:\n",
    "    # Authenticate user to Google Cloud\n",
    "    from google.colab import auth\n",
    "\n",
    "    auth.authenticate_user()"
   ]
  },
  {
   "cell_type": "markdown",
   "id": "17c7b4fb-fdfc-4900-8de3-2943f51bf007",
   "metadata": {},
   "source": [
    "### Define Google Cloud project information"
   ]
  },
  {
   "cell_type": "code",
   "execution_count": null,
   "id": "379ae518-563b-4bf0-a1fc-b2b121414cec",
   "metadata": {},
   "outputs": [],
   "source": [
    "PROJECT_ID=\"PROJECT_ID\"\n",
    "SEARCH_APP_LOCATION=\"global or us\"\n",
    "SEARCH_ENGINE_ID=\"VERTEX_SEARCH_ENGINE_ID\"\n",
    "LOCATION_GEMINI_MODEl=\"northamerica-northeast1\""
   ]
  },
  {
   "cell_type": "markdown",
   "id": "de73be91-7a1c-4df5-bf08-3a447b158a57",
   "metadata": {
    "tags": []
   },
   "source": [
    "### Import the Relevant packages"
   ]
  },
  {
   "cell_type": "code",
   "execution_count": null,
   "id": "052f7cf3-f34f-402c-a08b-978130e18cf8",
   "metadata": {
    "tags": []
   },
   "outputs": [],
   "source": [
    "#import the relevant library\n",
    "\n",
    "from typing import List\n",
    "import vertexai\n",
    "from vertexai.preview.generative_models import GenerativeModel\n",
    "import vertexai.preview.generative_models as generative_models\n",
    "import requests\n",
    "import subprocess  # To obtain the access token\n",
    "import re\n",
    "import json"
   ]
  },
  {
   "cell_type": "markdown",
   "id": "d96ed5da-e479-4270-8169-ba534a2a2550",
   "metadata": {},
   "source": [
    "### Send a Request to Vertex Search App with Data Blending(Mixed Datastore) \n",
    "#### https://cloud.google.com/generative-ai-app-builder/docs/create-data-store-es#multi-data-stores"
   ]
  },
  {
   "cell_type": "code",
   "execution_count": null,
   "id": "a12ac92a-ac23-4f36-b2c8-8e5fbd40b6ed",
   "metadata": {
    "tags": []
   },
   "outputs": [],
   "source": [
    "# Obtain the access token\n",
    "access_token = subprocess.check_output(['gcloud', 'auth', 'print-access-token']).decode('utf-8').strip()\n",
    "\n",
    "# Construct the API endpoint URL\n",
    "url = \"https://discoveryengine.googleapis.com/v1beta/projects/\" + PROJECT_ID + \"/locations/\" + SEARCH_APP_LOCATION + \"/collections/default_collection/engines/\" + SEARCH_ENGINE_ID + \"/servingConfigs/default_search:search\"\n",
    "\n",
    "# Headers for the request\n",
    "headers = {\n",
    "    \"Authorization\": f\"Bearer {access_token}\",\n",
    "    \"Content-Type\": \"application/json\"\n",
    "}\n",
    "\n",
    "# Data payload for the POST request\n",
    "data = {\n",
    "    \"servingConfig\": \"projects/\" + PROJECT_ID + \"/locations/\" + SEARCH_APP_LOCATION + \"/collections/default_collection/engines/\" + SEARCH_ENGINE_ID + \"/servingConfigs/default_search\", \n",
    "    \"query\": \"How many 10-ks are there in the datastore \",  # <- insert your search prompt/query \n",
    "    \"pageSize\": \"10\" \n",
    "}\n",
    "\n",
    "# Send the POST request\n",
    "response = requests.post(url, headers=headers, json=data) \n",
    "\n",
    "# Check for successful response\n",
    "if response.status_code == 200:\n",
    "    output = response.text\n",
    "    print(output)\n",
    "else:\n",
    "    print(f\"Request failed with status code: {response.status_code}\")\n",
    "    #uncommen below to see the results\n",
    "    #print(response.text) \n",
    "\n",
    "# Store response is in a variable called 'response_data'\n",
    "response_data = response.json()\n"
   ]
  },
  {
   "cell_type": "code",
   "execution_count": null,
   "id": "d8058308-f25d-497a-91dd-db0337cf390a",
   "metadata": {
    "tags": []
   },
   "outputs": [],
   "source": [
    "#Uncomment to extract snippets from search results\n",
    "\n",
    "# for idx, result in enumerate(response_data['results']):\n",
    "#     document = result['document']\n",
    "#     if 'derivedStructData' in document:\n",
    "#         print(f\"\\n--- Snippets from Document {idx+1} ---\")\n",
    "#         for snippet_item in document['derivedStructData'].get('snippets', []):\n",
    "#             print(snippet_item['snippet'])\n",
    "            \n",
    "\n",
    "\n",
    "#Uncomment to clean up regex from snippets\n",
    "\n",
    "# snippets_list = []\n",
    "\n",
    "# for idx, result in enumerate(response_data['results']):\n",
    "#     # ... (your existing code)\n",
    "#         for snippet_item in document['derivedStructData'].get('snippets', []):\n",
    "#             snippets_list.append(snippet_item['snippet'])\n",
    "# for item in snippets_list:\n",
    "#     clean_text = re.sub('<[^>]*>', '', item)  \n",
    "#     print(clean_text)\n",
    "#     print(\"\\n\") "
   ]
  },
  {
   "cell_type": "markdown",
   "id": "a8fc8d60-be4a-4831-8330-4c0470f85c3c",
   "metadata": {},
   "source": [
    "### Feed the Search result snippets to Gemini Pro model and formuate a summary/response based on your original prompt"
   ]
  },
  {
   "cell_type": "code",
   "execution_count": null,
   "id": "42950f35-7b64-4c7d-9ce3-3bbeb8224c9e",
   "metadata": {
    "tags": []
   },
   "outputs": [],
   "source": [
    "def generate():\n",
    "  vertexai.init(project=PROJECT_ID, location=LOCATION_GEMINI_MODEl)\n",
    "  model = GenerativeModel(\"gemini-1.0-pro-001\") #specify the gemini model version\n",
    "  responses = model.generate_content(\n",
    "     str(response_data) + \" organize the json results based on the question :\" + data['query'],\n",
    "    generation_config={\n",
    "        \"max_output_tokens\": 2048,\n",
    "        \"temperature\": 0.9,\n",
    "        \"top_p\": 1\n",
    "    },\n",
    "    safety_settings={\n",
    "          generative_models.HarmCategory.HARM_CATEGORY_HATE_SPEECH: generative_models.HarmBlockThreshold.BLOCK_MEDIUM_AND_ABOVE,\n",
    "          generative_models.HarmCategory.HARM_CATEGORY_DANGEROUS_CONTENT: generative_models.HarmBlockThreshold.BLOCK_MEDIUM_AND_ABOVE,\n",
    "          generative_models.HarmCategory.HARM_CATEGORY_SEXUALLY_EXPLICIT: generative_models.HarmBlockThreshold.BLOCK_MEDIUM_AND_ABOVE,\n",
    "          generative_models.HarmCategory.HARM_CATEGORY_HARASSMENT: generative_models.HarmBlockThreshold.BLOCK_MEDIUM_AND_ABOVE,\n",
    "    },\n",
    "    stream=True,\n",
    "  )\n",
    "  \n",
    "  for response in responses:\n",
    "    print(response.text, end=\"\")\n",
    "\n",
    "\n",
    "generate()"
   ]
  }
 ],
 "metadata": {
  "environment": {
   "kernel": "python3",
   "name": "tf2-gpu.2-15.m118",
   "type": "gcloud",
   "uri": "us-docker.pkg.dev/deeplearning-platform-release/gcr.io/tf2-gpu.2-15:m118"
  },
  "kernelspec": {
   "display_name": "Python 3",
   "language": "python",
   "name": "python3"
  },
  "language_info": {
   "codemirror_mode": {
    "name": "ipython",
    "version": 3
   },
   "file_extension": ".py",
   "mimetype": "text/x-python",
   "name": "python",
   "nbconvert_exporter": "python",
   "pygments_lexer": "ipython3",
   "version": "3.10.13"
  }
 },
 "nbformat": 4,
 "nbformat_minor": 5
}
